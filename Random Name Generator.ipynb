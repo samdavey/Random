{
 "cells": [
  {
   "cell_type": "markdown",
   "metadata": {},
   "source": [
    "# Random Business Name Generator\n",
    "* Start with a few seed words that describe your business theme\n",
    "* Combine them in various ways with Thesaurus synonyms\n",
    "* Print the bastards and see if anything sticks"
   ]
  },
  {
   "cell_type": "code",
   "execution_count": 18,
   "metadata": {
    "collapsed": true
   },
   "outputs": [],
   "source": [
    "# imports\n",
    "from PyDictionary import PyDictionary\n",
    "\n",
    "# instantiate\n",
    "dictionary=PyDictionary()\n",
    "\n",
    "# seed\n",
    "seed_nouns = [\n",
    "    'AI', \n",
    "    'Analytics', \n",
    "    'Intelligence', \n",
    "    'Direction', \n",
    "    'Insight', \n",
    "    'Acumen',\n",
    "    'Foresight',\n",
    "    'Prescience',\n",
    "    'Perception',\n",
    "    'Consulting',\n",
    "    'Solutions',\n",
    "    'Edge',\n",
    "    'Ability',\n",
    "    'Logic',\n",
    "    'Data'\n",
    "]\n",
    "seed_adjectives = [\n",
    "    'Advanced',\n",
    "    'Smart',\n",
    "    'Augment',\n",
    "    'Enhance',\n",
    "    'Adaptive',\n",
    "    'Cognitive',\n",
    "    'Business',\n",
    "    'Competitive',\n",
    "    'Quantum',\n",
    "    'Success',\n",
    "    'Confidence',\n",
    "    'Wise',\n",
    "    'Jitsu',\n",
    "    'Zen'\n",
    "]"
   ]
  },
  {
   "cell_type": "code",
   "execution_count": 20,
   "metadata": {
    "collapsed": false
   },
   "outputs": [
    {
     "name": "stderr",
     "output_type": "stream",
     "text": [
      "C:\\Users\\samda\\Anaconda3\\lib\\site-packages\\bs4\\__init__.py:166: UserWarning: No parser was explicitly specified, so I'm using the best available HTML parser for this system (\"lxml\"). This usually isn't a problem, but if you run this code on another system, or in a different virtual environment, it may use a different parser and behave differently.\n",
      "\n",
      "To get rid of this warning, change this:\n",
      "\n",
      " BeautifulSoup([your markup])\n",
      "\n",
      "to this:\n",
      "\n",
      " BeautifulSoup([your markup], \"lxml\")\n",
      "\n",
      "  markup_type=markup_type))\n"
     ]
    }
   ],
   "source": [
    "# get the synonyms\n",
    "temp_nouns = set(seed_nouns)\n",
    "temp_adjectives = set(seed_adjectives)\n",
    "\n",
    "for noun in seed_nouns:\n",
    "#     print('Noun:', noun)\n",
    "    temp_nouns.update(dictionary.synonym(noun))\n",
    "    \n",
    "for adjective in seed_adjectives:\n",
    "#     print('Adj:', adjective)\n",
    "    temp_adjectives.update(dictionary.synonym(adjective))\n",
    "\n",
    "all_nouns = list(temp_nouns)\n",
    "all_adjectives = list(temp_adjectives)"
   ]
  },
  {
   "cell_type": "code",
   "execution_count": 21,
   "metadata": {
    "collapsed": false
   },
   "outputs": [
    {
     "data": {
      "text/plain": [
       "['ken',\n",
       " 'jutes',\n",
       " 'den',\n",
       " 'advance',\n",
       " 'win',\n",
       " 'Wise',\n",
       " 'upgrade',\n",
       " 'prosperity',\n",
       " 'cerebral',\n",
       " 'total',\n",
       " 'intensify',\n",
       " 'state-of-the-art',\n",
       " 'Augment',\n",
       " 'subjective',\n",
       " 'accomplishment',\n",
       " 'experienced',\n",
       " 'Cognitive',\n",
       " 'Competitive',\n",
       " 'courage',\n",
       " 'avant-garde',\n",
       " 'augment',\n",
       " 'emotional',\n",
       " 'wise',\n",
       " 'agile',\n",
       " 'add to',\n",
       " 'field',\n",
       " 'poise',\n",
       " 'good',\n",
       " 'kids',\n",
       " 'morale',\n",
       " 'kites',\n",
       " 'Success',\n",
       " 'Confidence',\n",
       " 'Zen',\n",
       " 'certainty',\n",
       " 'employment',\n",
       " 'antagonistic',\n",
       " 'fen',\n",
       " 'Smart',\n",
       " 'ambitious',\n",
       " 'develop',\n",
       " 'guts',\n",
       " 'strengthen',\n",
       " 'trade',\n",
       " 'aggressive',\n",
       " 'careful',\n",
       " 'Jitsu',\n",
       " 'brilliant',\n",
       " 'achievement',\n",
       " 'Business',\n",
       " 'forward',\n",
       " 'portion',\n",
       " 'function',\n",
       " 'measure',\n",
       " 'hits',\n",
       " 'men',\n",
       " 'hen',\n",
       " 'bold',\n",
       " 'sensible',\n",
       " 'leading',\n",
       " 'Enhance',\n",
       " 'mental',\n",
       " 'enlarge',\n",
       " 'intellectual',\n",
       " 'Advanced',\n",
       " 'cutthroat',\n",
       " 'determination',\n",
       " 'flexible',\n",
       " 'progressive',\n",
       " 'amount',\n",
       " 'work',\n",
       " 'knowledgeable',\n",
       " 'sum',\n",
       " 'Quantum',\n",
       " 'raise',\n",
       " 'modifying',\n",
       " 'wary',\n",
       " 'Adaptive',\n",
       " 'robust',\n",
       " 'combative']"
      ]
     },
     "execution_count": 21,
     "metadata": {},
     "output_type": "execute_result"
    }
   ],
   "source": [
    "all_adjectives"
   ]
  },
  {
   "cell_type": "code",
   "execution_count": 27,
   "metadata": {
    "collapsed": false
   },
   "outputs": [],
   "source": [
    "names = set([])\n",
    "for i in range(len(all_nouns)):\n",
    "    for j in range(len(all_adjectives)):\n",
    "        names.add('{0} {1}'.format(all_nouns[i], all_adjectives[j]))\n",
    "        names.add('{0} {1}'.format(all_adjectives[j], all_nouns[i]))"
   ]
  },
  {
   "cell_type": "code",
   "execution_count": 31,
   "metadata": {
    "collapsed": false
   },
   "outputs": [],
   "source": [
    "with open('business_names.txt', 'w') as f:\n",
    "    for name in names:\n",
    "        f.write(name + '\\n')\n",
    "f.close()"
   ]
  }
 ],
 "metadata": {
  "kernelspec": {
   "display_name": "Python 3",
   "language": "python",
   "name": "python3"
  },
  "language_info": {
   "codemirror_mode": {
    "name": "ipython",
    "version": 3
   },
   "file_extension": ".py",
   "mimetype": "text/x-python",
   "name": "python",
   "nbconvert_exporter": "python",
   "pygments_lexer": "ipython3",
   "version": "3.5.1"
  }
 },
 "nbformat": 4,
 "nbformat_minor": 0
}
