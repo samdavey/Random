{
 "cells": [
  {
   "cell_type": "code",
   "execution_count": null,
   "metadata": {
    "collapsed": true
   },
   "outputs": [],
   "source": [
    "\"\"\"Simple command-line example for Translate.\n",
    " \n",
    "Command-line application that translates some text.\n",
    "\"\"\"\n",
    "from __future__ import print_function\n",
    " \n",
    "__author__ = 'jcgregorio@google.com (Joe Gregorio)'\n",
    " \n",
    "from googleapiclient.discovery import build\n",
    " \n",
    " \n",
    "def main():\n",
    " \n",
    "# Build a service object for interacting with the API. Visit\n",
    "# the Google APIs Console <http://code.google.com/apis/console>\n",
    "# to get an API key for your own application.\n",
    "service = build('translate', 'v2',\n",
    "developerKey='<insert API key here>')\n",
    "print(service.translations().list(\n",
    "source='en',\n",
    "target='fr',\n",
    "q=['flower', 'car']\n",
    ").execute())\n",
    " \n",
    "if __name__ == '__main__':\n",
    "main() "
   ]
  }
 ],
 "metadata": {
  "kernelspec": {
   "display_name": "Python 3",
   "language": "python",
   "name": "python3"
  },
  "language_info": {
   "codemirror_mode": {
    "name": "ipython",
    "version": 3
   },
   "file_extension": ".py",
   "mimetype": "text/x-python",
   "name": "python",
   "nbconvert_exporter": "python",
   "pygments_lexer": "ipython3",
   "version": "3.5.1"
  }
 },
 "nbformat": 4,
 "nbformat_minor": 0
}
