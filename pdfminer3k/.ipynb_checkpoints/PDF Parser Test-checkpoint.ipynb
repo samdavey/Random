{
 "cells": [
  {
   "cell_type": "code",
   "execution_count": 1,
   "metadata": {
    "collapsed": false
   },
   "outputs": [],
   "source": [
    "from PDF_Parser import Parser\n",
    "infile = open('test.pdf', 'r+b') # open for read in binary mode\n",
    "outfile = open('test_output1.txt', 'w')\n",
    "p = Parser()\n",
    "p.load(infile)"
   ]
  },
  {
   "cell_type": "code",
   "execution_count": 2,
   "metadata": {
    "collapsed": false
   },
   "outputs": [
    {
     "name": "stdout",
     "output_type": "stream",
     "text": [
      "Pre:\n",
      "Set variables:\n",
      "Target_company_name = “Iglo Foods Holdings Ltd”\n",
      "Save_location = <you choose any location that is convenient for this demo>\n",
      "1. Open IE \n",
      "2. Navigate to EY homepage \n",
      "3. Click External Sources\n",
      "4. New window opens\n",
      "5. Click through to Company InfoGator\n",
      "6. New window opens\n",
      "7. Enter the target company variable in the ‘Enter company name’ search box and hit Go\n",
      "8. New window opens \n",
      "9. Click through to the first result\n",
      "10. New window opens\n",
      "11. Click through to the ‘OneStop Report’\n",
      "12. New window opens, accept unsecure content \n",
      "13. Click the ‘Print’ button\n",
      "14. Print page to PDF (Ctrl+P and choose PDF printer) or save page as PDF file in the \n",
      "save_location\n"
     ]
    }
   ],
   "source": [
    "p.save_text_to_file(outfile)\n",
    "outfile.close()"
   ]
  },
  {
   "cell_type": "code",
   "execution_count": null,
   "metadata": {
    "collapsed": false
   },
   "outputs": [],
   "source": [
    "p.text"
   ]
  },
  {
   "cell_type": "code",
   "execution_count": null,
   "metadata": {
    "collapsed": false
   },
   "outputs": [],
   "source": [
    "len(p.text)"
   ]
  }
 ],
 "metadata": {
  "kernelspec": {
   "display_name": "Python 3",
   "language": "python",
   "name": "python3"
  },
  "language_info": {
   "codemirror_mode": {
    "name": "ipython",
    "version": 3
   },
   "file_extension": ".py",
   "mimetype": "text/x-python",
   "name": "python",
   "nbconvert_exporter": "python",
   "pygments_lexer": "ipython3",
   "version": "3.5.1"
  }
 },
 "nbformat": 4,
 "nbformat_minor": 0
}
